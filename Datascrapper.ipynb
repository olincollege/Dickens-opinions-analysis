{
 "cells": [
  {
   "cell_type": "code",
   "execution_count": 1,
   "metadata": {},
   "outputs": [],
   "source": [
    "import requests\n",
    "import pandas as pd"
   ]
  },
  {
   "cell_type": "code",
   "execution_count": 3,
   "metadata": {},
   "outputs": [
    {
     "name": "stdout",
     "output_type": "stream",
     "text": [
      "0                             Jefferson, Thomas, 1743-1826\n",
      "1                                            United States\n",
      "2            Kennedy, John F. (John Fitzgerald), 1917-1963\n",
      "3                              Lincoln, Abraham, 1809-1865\n",
      "4                                            United States\n",
      "                               ...                        \n",
      "67491                                    Whitman, Roger B.\n",
      "67492    Fern, Fanny, 1811-1872; Coffin, Fred M. [Illus...\n",
      "67493       O'Connor, Patrick; Campbell, Ray [Illustrator]\n",
      "67494                                    Parmanen, Eino I.\n",
      "67495                                                  NaN\n",
      "Name: Authors, Length: 67496, dtype: object\n"
     ]
    }
   ],
   "source": [
    "catalog = pd.read_csv(\"pg_catalog.csv\")\n",
    "#print(Catalog.head(5))\n",
    "column_name = \"Authors\"\n",
    "list_of_authors = catalog[column_name]\n",
    "print(list_of_authors)\n",
    "dickens_books=[]\n",
    "book_indexes = catalog[\"Text#\"]\n",
    "book_names=[]\n",
    "for index, author in enumerate(list_of_authors):\n",
    "    if type(author)==float:\n",
    "        continue        \n",
    "    if \"Dickens, Charles\" in author and catalog[\"Language\"][index]==\"en\" and \\\n",
    "    catalog[\"Type\"][index]==\"Text\":\n",
    "        in_list=False\n",
    "        for title in book_names:\n",
    "            if catalog[\"Title\"][index] in title:\n",
    "                in_list=True\n",
    "        if in_list==False:\n",
    "            book_names.append(catalog[\"Title\"][index])\n",
    "            dickens_books.append(book_indexes[index])\n",
    "#for index in dickens_books:\n",
    "for books in dickens_books:\n",
    "    r = requests.get(f'https://gutenberg.org/files/{books}/{books}-0.txt')\n",
    "    r.encoding = 'utf-8'\n",
    "    with open(f'BooksRaw/Book{books}.txt', 'w') as f:\n",
    "        f.write(r.text)\n"
   ]
  },
  {
   "cell_type": "code",
   "execution_count": 15,
   "metadata": {},
   "outputs": [],
   "source": [
    "import os\n",
    "\n",
    "# Check if book file is actually a book\n",
    "\n",
    "# Iterate through files in the BooksRaw folder, removes if it is html\n",
    "for bookfile in os.listdir(\"BooksRaw\"):\n",
    "    # Open each file and check if the first line contains html, if so delete it\n",
    "    with open(\"BooksRaw/\" + bookfile, \"r\") as file_text:\n",
    "        if \"html\" in file_text.readlines(2)[0]:\n",
    "            os.remove(\"BooksRaw/\" + bookfile)"
   ]
  },
  {
   "cell_type": "code",
   "execution_count": 17,
   "metadata": {},
   "outputs": [],
   "source": [
    "# Data Cleaner\n",
    "# Read lines in raw book text and write to new file in BooksCleaned.\n",
    "\n",
    "# Disclaimer: there are still some issues with this program\n",
    "for book in os.listdir(\"BooksRaw\"):\n",
    "    with open(\"BooksRaw/\" + book, \"r\") as book_text:\n",
    "        lines = book_text.readlines()\n",
    "    for line_number, line in enumerate(lines):\n",
    "        if \"START OF THE PROJECT GUTENBERG EBOOK\" in line:\n",
    "            beginning = line_number + 5\n",
    "        if \"END OF THE PROJECT GUTENBERG EBOOK\" in line:\n",
    "            end = line_number\n",
    "            break\n",
    "    with open(\"BooksCleaned/\" + book, \"w\") as new_book_text:\n",
    "        for line_number, line in enumerate(lines):\n",
    "            if line_number in range(beginning, end):\n",
    "                new_book_text.write(line)"
   ]
  }
 ],
 "metadata": {
  "interpreter": {
   "hash": "50e76cd4c0b166ad59e085de7cde41ac0debcd95d70304facc722e414b721ae8"
  },
  "kernelspec": {
   "display_name": "Python 3.9.7 ('base')",
   "language": "python",
   "name": "python3"
  },
  "language_info": {
   "codemirror_mode": {
    "name": "ipython",
    "version": 3
   },
   "file_extension": ".py",
   "mimetype": "text/x-python",
   "name": "python",
   "nbconvert_exporter": "python",
   "pygments_lexer": "ipython3",
   "version": "3.9.7"
  },
  "orig_nbformat": 4
 },
 "nbformat": 4,
 "nbformat_minor": 2
}
