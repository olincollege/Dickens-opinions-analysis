{
 "cells": [
  {
   "cell_type": "code",
   "execution_count": 39,
   "metadata": {},
   "outputs": [
    {
     "data": {
      "text/plain": [
       "['bright', 'red']"
      ]
     },
     "execution_count": 39,
     "metadata": {},
     "output_type": "execute_result"
    }
   ],
   "source": [
    "import spacy\n",
    "def look_for_adjectives(word,sentence):\n",
    "    nlp = spacy.load(\"en_core_web_sm\")\n",
    "    doc = nlp(sentence)\n",
    "    adjectives=[]\n",
    "    for token in doc:\n",
    "        #print(token.text +\" \"+token.dep_+\" \"+token.head.text+\" \"+token.pos_)\n",
    "        working_token=token\n",
    "        while working_token.dep_ != \"ROOT\":\n",
    "            if working_token.head.text==word and token.pos_==(\"ADJ\"):\n",
    "                adjectives.append(token.text)\n",
    "                break\n",
    "            if working_token.head.text==working_token.text:\n",
    "                break\n",
    "            working_token=working_token.head\n",
    "    return adjectives\n",
    "look_for_adjectives(\"apple\", \"the bright red apple was smart\")\n",
    "\n",
    "    #print(token.text +\" \"+token.dep_+\" \"+token.head.text)\n",
    "    #print(\"{2}({3}-{6}, {0}-{5})\".format(token.text, token.tag_, token.dep_, token.head.text, token.head.tag_, token.i+1, token.head.i+1))"
   ]
  }
 ],
 "metadata": {
  "interpreter": {
   "hash": "50e76cd4c0b166ad59e085de7cde41ac0debcd95d70304facc722e414b721ae8"
  },
  "kernelspec": {
   "display_name": "Python 3.9.7 ('base')",
   "language": "python",
   "name": "python3"
  },
  "language_info": {
   "codemirror_mode": {
    "name": "ipython",
    "version": 3
   },
   "file_extension": ".py",
   "mimetype": "text/x-python",
   "name": "python",
   "nbconvert_exporter": "python",
   "pygments_lexer": "ipython3",
   "version": "3.9.7"
  },
  "orig_nbformat": 4
 },
 "nbformat": 4,
 "nbformat_minor": 2
}
