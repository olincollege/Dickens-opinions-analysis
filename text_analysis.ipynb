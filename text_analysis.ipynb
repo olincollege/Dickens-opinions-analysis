{
 "cells": [
  {
   "cell_type": "code",
   "execution_count": null,
   "metadata": {},
   "outputs": [],
   "source": []
  },
  {
   "cell_type": "code",
   "execution_count": 62,
   "metadata": {},
   "outputs": [
    {
     "name": "stderr",
     "output_type": "stream",
     "text": [
      "[nltk_data] Downloading package punkt to /home/jprism/nltk_data...\n",
      "[nltk_data]   Package punkt is already up-to-date!\n",
      "[nltk_data] Downloading package averaged_perceptron_tagger to\n",
      "[nltk_data]     /home/jprism/nltk_data...\n",
      "[nltk_data]   Package averaged_perceptron_tagger is already up-to-\n",
      "[nltk_data]       date!\n"
     ]
    }
   ],
   "source": [
    "import nltk\n",
    "import os\n",
    "nltk.download('punkt')\n",
    "nltk.download('averaged_perceptron_tagger')\n",
    "\n",
    "with open(\"BooksCleaned/Book46.txt\") as book:\n",
    "    contents = book.read()\n",
    "    #print(contents)\n",
    "    tokens = nltk.word_tokenize(contents)\n",
    "    #print(tokens)\n",
    "    parts_of_speech = nltk.pos_tag(tokens)\n",
    "    #print(parts_of_speech)\n"
   ]
  },
  {
   "cell_type": "code",
   "execution_count": 63,
   "metadata": {},
   "outputs": [],
   "source": [
    "import nltk\n",
    "from nltk.corpus import wordnet   #Import wordnet from the NLTK\n",
    "def find_syn(keyword):    \n",
    "    syn = list()\n",
    "    for synset in wordnet.synsets(keyword):\n",
    "        for lemma in synset.lemmas():\n",
    "            syn.append(lemma.name())    #add the synonyms\n",
    "    #print('Synonyms: ' + str(syn))\n",
    "    return str(syn)"
   ]
  },
  {
   "cell_type": "code",
   "execution_count": 64,
   "metadata": {},
   "outputs": [],
   "source": [
    "def find_occurances_of_keyword(keyword,text):\n",
    "    list_of_indexes=[]\n",
    "    for index,word in enumerate(text):\n",
    "        if keyword == word:\n",
    "            list_of_indexes.append(index)\n",
    "    return list_of_indexes"
   ]
  },
  {
   "cell_type": "code",
   "execution_count": 65,
   "metadata": {},
   "outputs": [],
   "source": [
    "def find_adjectives(indexes, parts_of_speech_list):\n",
    "    list_of_adjectives=[]\n",
    "    for index in indexes:\n",
    "        if parts_of_speech_list[index-1][1]==\"JJ\" or \\\n",
    "        parts_of_speech_list[index-1][1]==\"JJR\" \\\n",
    "        or parts_of_speech_list[index-1][1]==\"JJS\":\n",
    "            list_of_adjectives.append(parts_of_speech_list[index-1][0])\n",
    "    return list_of_adjectives"
   ]
  },
  {
   "cell_type": "code",
   "execution_count": 66,
   "metadata": {},
   "outputs": [
    {
     "data": {
      "text/plain": [
       "['old', 'old', 'old']"
      ]
     },
     "execution_count": 66,
     "metadata": {},
     "output_type": "execute_result"
    }
   ],
   "source": [
    "def find_words_that_describe_keyword(keyword,path):\n",
    "    with open(path) as book:\n",
    "        contents = book.read()\n",
    "        tokens = nltk.word_tokenize(contents)\n",
    "        parts_of_speech = nltk.pos_tag(tokens)\n",
    "    keyword_indexes=find_occurances_of_keyword(keyword,tokens)\n",
    "    adjectives=find_adjectives(keyword_indexes,parts_of_speech)\n",
    "    return adjectives\n",
    "find_words_that_describe_keyword(\"gentleman\", \"BooksCleaned/Book922.txt\")"
   ]
  },
  {
   "cell_type": "code",
   "execution_count": 67,
   "metadata": {},
   "outputs": [],
   "source": [
    "def find_words_in_all_books_that_describe_keyword(keyword):\n",
    "    adj=[]\n",
    "    for book in os.listdir(\"BooksCleaned\"):\n",
    "        adj+=(find_words_that_describe_keyword(keyword,f'BooksCleaned/{book}')) \n",
    "    return(adj)\n",
    "adj_lawyer=find_words_in_all_books_that_describe_keyword(\"lawyer\")"
   ]
  },
  {
   "cell_type": "code",
   "execution_count": 68,
   "metadata": {},
   "outputs": [
    {
     "name": "stdout",
     "output_type": "stream",
     "text": [
      "{'neg': 0.0, 'neu': 0.0, 'pos': 1.0, 'compound': 0.4215}\n",
      "{'neg': 1.0, 'neu': 0.0, 'pos': 0.0, 'compound': -0.4588}\n",
      "{'neg': 0.0, 'neu': 0.0, 'pos': 1.0, 'compound': 0.4404}\n",
      "{'neg': 0.0, 'neu': 1.0, 'pos': 0.0, 'compound': 0.0}\n",
      "{'neg': 0.0, 'neu': 1.0, 'pos': 0.0, 'compound': 0.0}\n",
      "{'neg': 0.0, 'neu': 1.0, 'pos': 0.0, 'compound': 0.0}\n",
      "{'neg': 0.0, 'neu': 0.0, 'pos': 1.0, 'compound': 0.6249}\n",
      "{'neg': 0.0, 'neu': 1.0, 'pos': 0.0, 'compound': 0.0}\n",
      "{'neg': 0.0, 'neu': 1.0, 'pos': 0.0, 'compound': 0.0}\n",
      "{'neg': 0.0, 'neu': 1.0, 'pos': 0.0, 'compound': 0.0}\n",
      "{'neg': 0.0, 'neu': 1.0, 'pos': 0.0, 'compound': 0.0}\n",
      "{'neg': 0.0, 'neu': 0.0, 'pos': 1.0, 'compound': 0.2023}\n",
      "{'neg': 0.0, 'neu': 1.0, 'pos': 0.0, 'compound': 0.0}\n",
      "{'neg': 0.0, 'neu': 1.0, 'pos': 0.0, 'compound': 0.0}\n",
      "[0.2857142857142857, 0.6428571428571429, 0.07142857142857142]\n"
     ]
    },
    {
     "name": "stderr",
     "output_type": "stream",
     "text": [
      "[nltk_data] Downloading package vader_lexicon to\n",
      "[nltk_data]     /home/jprism/nltk_data...\n",
      "[nltk_data]   Package vader_lexicon is already up-to-date!\n"
     ]
    }
   ],
   "source": [
    "from nltk.sentiment import SentimentIntensityAnalyzer\n",
    "nltk.download('vader_lexicon')\n",
    "#def sentiment_countifier(adjectives):\n",
    "#    sia = SentimentIntensityAnalyzer()\n",
    "#    str1 = \" \" \n",
    "#    words =str1.join(adjectives)    \n",
    "#    print(words)\n",
    "#    sentiments = sia.polarity_scores(words)\n",
    "#    return sentiments\n",
    "#print(sentiment_countifier(adj_lawyer))\n",
    "def sentiment_countifier_individual(adjectives):\n",
    "    sia = SentimentIntensityAnalyzer()\n",
    "    pos_scores=[]    \n",
    "    neu_scores=[]    \n",
    "    neg_scores=[] \n",
    "    for word in adjectives:    \n",
    "        sentiments = sia.polarity_scores(word)\n",
    "        print(sentiments)\n",
    "        pos_scores.append(sentiments[\"pos\"])\n",
    "        neu_scores.append(sentiments[\"neu\"])\n",
    "        neg_scores.append(sentiments[\"neg\"])\n",
    "    pos_score= sum(pos_scores) / len(pos_scores)\n",
    "    neu_score= sum(neu_scores) / len(neu_scores)\n",
    "    neg_score= sum(neg_scores) / len(neg_scores)    \n",
    "    return [pos_score,neu_score,neg_score]\n",
    "print(sentiment_countifier_individual(adj_lawyer))\n"
   ]
  },
  {
   "cell_type": "code",
   "execution_count": 91,
   "metadata": {},
   "outputs": [
    {
     "data": {
      "text/plain": [
       "[\"If we were not perfectly convinced that Hamlet's Father died before the play began, there would be nothing more remarkable in his taking a stroll at night, in an easterly wind, upon his own ramparts, than there would be in any other middle-aged gentleman rashly turning out after dark in a breezy spot--say Saint Paul's Churchyard for instance--literally to astonish his son's weak mind.\",\n",
       " '\" \"We have no doubt his liberality is well represented by his surviving partner,\" said the gentleman, presenting his credentials.',\n",
       " '\"At this festive season of the year, Mr. Scrooge,\" said the gentleman, taking up a pen, \"it is more than usually desirable that we should make some slight provision for the Poor and destitute, who suffer greatly at the present time.',\n",
       " '\"Plenty of prisons,\" said the gentleman, laying down the pen again.',\n",
       " 'Still,\" returned the gentleman, \"I wish I could say they were not.',\n",
       " '\" \"Under the impression that they scarcely furnish Christian cheer of mind or body to the multitude,\" returned the gentleman, \"a few of us are endeavouring to raise a fund to buy the Poor some meat and drink, and means of warmth.',\n",
       " '\" \"But you might know it,\" observed the gentleman.',\n",
       " 'The owner of one scant young nose, gnawed and mumbled by the hungry cold as bones are gnawed by dogs, stooped down at Scrooge\\'s keyhole to regale him with a Christmas carol: but at the first sound of \"God bless you, merry gentleman!',\n",
       " 'Here he produced a decanter of curiously light wine, and a block of curiously heavy cake, and administered instalments of those dainties to the young people: at the same time, sending out a meagre servant to offer a glass of \"something\" to the postboy, who answered that he thanked the gentleman, but if it was the same tap as he had tasted before, he had rather not.',\n",
       " 'At sight of an old gentleman in a Welsh wig, sitting behind such a high desk, that if he had been two inches taller he must have knocked his head against the ceiling, Scrooge cried in great excitement:\" Why, it\\'s old Fezziwig!',\n",
       " '\" asked a red-faced gentleman with a pendulous excrescence on the end of his nose, that shook like the gills of a turkey-cock.',\n",
       " '\" \"I don\\'t mind going if a lunch is provided,\" observed the gentleman with the excrescence on his nose.',\n",
       " '\"On which,\" said Bob, \"for he is the pleasantest-spoken gentleman you ever heard, I told him.',\n",
       " 'He had not gone far, when coming on towards him he beheld the portly gentleman, who had walked into his counting-house the day before, and said, \"Scrooge and Marley\\'s, I believe?',\n",
       " '\" It sent a pang across his heart to think how this old gentleman would look upon him when they met; but he knew what path lay straight before him, and he took it.',\n",
       " '\"My dear sir,\" said Scrooge, quickening his pace, and taking the old gentleman by both his hands.',\n",
       " '\" cried the gentleman, as if his breath were taken away.',\n",
       " '\" cried the old gentleman.']"
      ]
     },
     "execution_count": 91,
     "metadata": {},
     "output_type": "execute_result"
    }
   ],
   "source": [
    "from nltk.tokenize.treebank import TreebankWordDetokenizer\n",
    "def find_sentences_with_keyword(keyword, text):\n",
    "    \"\"\"\n",
    "    Find the sentence that contextualizes the occurence of a keyword and return a list\n",
    "    of indices that represent the range of each sentence containing the keyword.\n",
    "    \n",
    "    Args:\n",
    "        keyword: a string representing a word to contextualize in a sentence.\n",
    "        text: a tokenized text given as a list of strings of words and punctuation.\n",
    "        \n",
    "    Returns:\n",
    "        A list of tuples representing the ranges of each sentence containing the keyword.\n",
    "    \"\"\"\n",
    "    keyword_locations = find_occurances_of_keyword(keyword, text)\n",
    "    end_punctuation = [\".\", \"!\", \"?\"]\n",
    "    sentence_ranges = []\n",
    "    for i in keyword_locations:\n",
    "        next_word = i + 1\n",
    "        while text[next_word] not in end_punctuation:\n",
    "            next_word += 1\n",
    "        end_location = next_word + 1\n",
    "        previous_word = i-1\n",
    "        while text[previous_word] not in end_punctuation:\n",
    "            previous_word -= 1\n",
    "        start_location = previous_word + 1\n",
    "        sentence_ranges.append([start_location, end_location])\n",
    "    sentences=[]\n",
    "    str= \" \"\n",
    "    for range_ in sentence_ranges:\n",
    "        sentences.append(TreebankWordDetokenizer().detokenize((text[range_[0]:range_[1]])))\n",
    "    return sentences\n",
    "\n",
    "find_sentences_with_keyword(\"gentleman\", tokens)\n"
   ]
  },
  {
   "cell_type": "code",
   "execution_count": 95,
   "metadata": {},
   "outputs": [
    {
     "data": {
      "text/plain": [
       "[]"
      ]
     },
     "execution_count": 95,
     "metadata": {},
     "output_type": "execute_result"
    }
   ],
   "source": [
    "import spacy\n",
    "def look_for_adjectives(word,sentence):\n",
    "    nlp = spacy.load(\"en_core_web_sm\")\n",
    "    doc = nlp(sentence)\n",
    "    adjectives=[]\n",
    "    for token in doc:\n",
    "        #print(token.text +\" \"+token.dep_+\" \"+token.head.text+\" \"+token.pos_)\n",
    "        working_token=token\n",
    "        while working_token.dep_ != \"ROOT\":\n",
    "            if working_token.head.text==word and token.pos_==(\"ADJ\"):\n",
    "                adjectives.append(token.text)\n",
    "                break\n",
    "            if working_token.head.text==working_token.text:\n",
    "                break\n",
    "            working_token=working_token.head\n",
    "    return adjectives\n",
    "\n",
    "\n"
   ]
  },
  {
   "cell_type": "code",
   "execution_count": 99,
   "metadata": {},
   "outputs": [],
   "source": [
    "def find_adj_in_all_sentences(keyword,path):\n",
    "    with open(path) as book:\n",
    "        contents = book.read()\n",
    "        text = nltk.word_tokenize(contents)\n",
    "        parts_of_speech = nltk.pos_tag(tokens)\n",
    "    adj=[]\n",
    "    for item in find_sentences_with_keyword(keyword, text):\n",
    "        adj+=look_for_adjectives(keyword,item)\n",
    "    return adj\n",
    "#find_adj_in_all_sentences(\"gentleman\",tokens)"
   ]
  },
  {
   "cell_type": "code",
   "execution_count": 104,
   "metadata": {},
   "outputs": [],
   "source": [
    "def find_adj_in_all_books(keyword):\n",
    "    adj=[]\n",
    "    for book in os.listdir(\"BooksCleaned\"):\n",
    "        adj+=(find_adj_in_all_sentences(keyword,f'BooksCleaned/{book}')) \n",
    "    return(adj)\n",
    "adj_lawyer=find_adj_in_all_books(\"lawyer\")"
   ]
  },
  {
   "cell_type": "code",
   "execution_count": 103,
   "metadata": {},
   "outputs": [
    {
     "name": "stdout",
     "output_type": "stream",
     "text": [
      "['nice', 'unfortunate', 'good', 'able', 'able', 'able', 'great', 'imperturbable', 'shrewd', 'stray', 'damp', 'fine', 'old', 'pertinacious']\n"
     ]
    },
    {
     "ename": "NameError",
     "evalue": "name 'adj' is not defined",
     "output_type": "error",
     "traceback": [
      "\u001b[0;31m---------------------------------------------------------------------------\u001b[0m",
      "\u001b[0;31mNameError\u001b[0m                                 Traceback (most recent call last)",
      "\u001b[0;32m/tmp/ipykernel_1326/2204579706.py\u001b[0m in \u001b[0;36m<module>\u001b[0;34m\u001b[0m\n\u001b[1;32m      1\u001b[0m \u001b[0mprint\u001b[0m\u001b[0;34m(\u001b[0m\u001b[0madj_lawyer\u001b[0m\u001b[0;34m)\u001b[0m\u001b[0;34m\u001b[0m\u001b[0;34m\u001b[0m\u001b[0m\n\u001b[0;32m----> 2\u001b[0;31m \u001b[0mprint\u001b[0m\u001b[0;34m(\u001b[0m\u001b[0madj\u001b[0m\u001b[0;34m)\u001b[0m\u001b[0;34m\u001b[0m\u001b[0;34m\u001b[0m\u001b[0m\n\u001b[0m",
      "\u001b[0;31mNameError\u001b[0m: name 'adj' is not defined"
     ]
    }
   ],
   "source": [
    "print(adj_lawyer)\n"
   ]
  },
  {
   "cell_type": "code",
   "execution_count": 105,
   "metadata": {},
   "outputs": [
    {
     "name": "stdout",
     "output_type": "stream",
     "text": [
      "['nice', 'good', 'sinister', 'unfortunate', 's', 'able', 'able', 'pleasant', 'able', 'great', 'imperturbable', 'shrewd', 'stray', 'damp', 'fine', 'English', 'English', 'old', 'English', 'pertinacious', 'Swiss', 'certain', 'large', 'mysterious', 'great']\n"
     ]
    }
   ],
   "source": [
    "print(adj_lawyer)\n"
   ]
  }
 ],
 "metadata": {
  "interpreter": {
   "hash": "f45d27ef87abeaa05ab51a1f930e19baf32562d96191c86f18389cce06bff4cf"
  },
  "kernelspec": {
   "display_name": "Python 3.9.7 ('base')",
   "language": "python",
   "name": "python3"
  },
  "language_info": {
   "codemirror_mode": {
    "name": "ipython",
    "version": 3
   },
   "file_extension": ".py",
   "mimetype": "text/x-python",
   "name": "python",
   "nbconvert_exporter": "python",
   "pygments_lexer": "ipython3",
   "version": "3.9.7"
  },
  "orig_nbformat": 4
 },
 "nbformat": 4,
 "nbformat_minor": 2
}
