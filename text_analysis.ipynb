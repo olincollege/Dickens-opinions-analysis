{
 "cells": [
  {
   "cell_type": "code",
   "execution_count": null,
   "metadata": {},
   "outputs": [],
   "source": []
  },
  {
   "cell_type": "code",
   "execution_count": 25,
   "metadata": {},
   "outputs": [
    {
     "name": "stderr",
     "output_type": "stream",
     "text": [
      "[nltk_data] Downloading package punkt to\n",
      "[nltk_data]     /home/malvinaclavering/nltk_data...\n",
      "[nltk_data]   Package punkt is already up-to-date!\n",
      "[nltk_data] Downloading package averaged_perceptron_tagger to\n",
      "[nltk_data]     /home/malvinaclavering/nltk_data...\n",
      "[nltk_data]   Package averaged_perceptron_tagger is already up-to-\n",
      "[nltk_data]       date!\n"
     ]
    }
   ],
   "source": [
    "import nltk\n",
    "import os\n",
    "nltk.download('punkt')\n",
    "nltk.download('averaged_perceptron_tagger')\n",
    "\n",
    "from WordBank import word_bank\n",
    "\n"
   ]
  },
  {
   "cell_type": "code",
   "execution_count": null,
   "metadata": {},
   "outputs": [],
   "source": [
    "with open(\"BooksCleaned/Book46.txt\") as book:\n",
    "    contents = book.read()\n",
    "    #print(contents)\n",
    "    tokens = nltk.word_tokenize(contents)\n",
    "    #print(tokens)\n",
    "    parts_of_speech = nltk.pos_tag(tokens)\n",
    "    #print(parts_of_speech)"
   ]
  },
  {
   "cell_type": "code",
   "execution_count": 4,
   "metadata": {},
   "outputs": [],
   "source": [
    "import nltk\n",
    "from nltk.corpus import wordnet   #Import wordnet from the NLTK\n",
    "def find_syn(keyword):    \n",
    "    syn = list()\n",
    "    for synset in wordnet.synsets(keyword):\n",
    "        for lemma in synset.lemmas():\n",
    "            syn.append(lemma.name())    #add the synonyms\n",
    "    #print('Synonyms: ' + str(syn))\n",
    "    return str(syn)"
   ]
  },
  {
   "cell_type": "code",
   "execution_count": 5,
   "metadata": {},
   "outputs": [],
   "source": [
    "def find_occurances_of_keyword(keyword,text):\n",
    "    list_of_indexes=[]\n",
    "    for index,word in enumerate(text):\n",
    "        if keyword == word:\n",
    "            list_of_indexes.append(index)\n",
    "    return list_of_indexes"
   ]
  },
  {
   "cell_type": "code",
   "execution_count": 6,
   "metadata": {},
   "outputs": [],
   "source": [
    "def find_adjectives(indexes, parts_of_speech_list):\n",
    "    list_of_adjectives=[]\n",
    "    for index in indexes:\n",
    "        if parts_of_speech_list[index-1][1]==\"JJ\" or \\\n",
    "        parts_of_speech_list[index-1][1]==\"JJR\" \\\n",
    "        or parts_of_speech_list[index-1][1]==\"JJS\":\n",
    "            list_of_adjectives.append(parts_of_speech_list[index-1][0])\n",
    "    return list_of_adjectives"
   ]
  },
  {
   "cell_type": "code",
   "execution_count": 7,
   "metadata": {},
   "outputs": [
    {
     "data": {
      "text/plain": [
       "['old', 'old', 'old']"
      ]
     },
     "execution_count": 7,
     "metadata": {},
     "output_type": "execute_result"
    }
   ],
   "source": [
    "def find_words_that_describe_keyword(keyword,path):\n",
    "    with open(path) as book:\n",
    "        contents = book.read()\n",
    "        tokens = nltk.word_tokenize(contents)\n",
    "        parts_of_speech = nltk.pos_tag(tokens)\n",
    "    keyword_indexes=find_occurances_of_keyword(keyword,tokens)\n",
    "    adjectives=find_adjectives(keyword_indexes,parts_of_speech)\n",
    "    return adjectives\n",
    "find_words_that_describe_keyword(\"gentleman\", \"BooksCleaned/Book922.txt\")"
   ]
  },
  {
   "cell_type": "code",
   "execution_count": 8,
   "metadata": {},
   "outputs": [],
   "source": [
    "def find_words_in_all_books_that_describe_keyword(keyword):\n",
    "    adj=[]\n",
    "    for book in os.listdir(\"BooksCleaned\"):\n",
    "        adj+=(find_words_that_describe_keyword(keyword,f'BooksCleaned/{book}')) \n",
    "    return(adj)\n",
    "#adj_seamstress=find_words_in_all_books_that_describe_keyword(\"seamstress\")"
   ]
  },
  {
   "cell_type": "code",
   "execution_count": 8,
   "metadata": {},
   "outputs": [
    {
     "name": "stderr",
     "output_type": "stream",
     "text": [
      "[nltk_data] Downloading package vader_lexicon to\n",
      "[nltk_data]     /home/malvinaclavering/nltk_data...\n",
      "[nltk_data]   Package vader_lexicon is already up-to-date!\n"
     ]
    }
   ],
   "source": [
    "from nltk.sentiment import SentimentIntensityAnalyzer\n",
    "nltk.download('vader_lexicon')\n",
    "#def sentiment_countifier(adjectives):\n",
    "#    sia = SentimentIntensityAnalyzer()\n",
    "#    str1 = \" \" \n",
    "#    words =str1.join(adjectives)    \n",
    "#    print(words)\n",
    "#    sentiments = sia.polarity_scores(words)\n",
    "#    return sentiments\n",
    "#print(sentiment_countifier(adj_lawyer))\n",
    "def sentiment_countifier_individual(adjectives):\n",
    "    sia = SentimentIntensityAnalyzer()\n",
    "    pos_scores=[]    \n",
    "    neu_scores=[]    \n",
    "    neg_scores=[] \n",
    "    for word in adjectives:    \n",
    "        sentiments = sia.polarity_scores(word)\n",
    "        print(sentiments)\n",
    "        pos_scores.append(sentiments[\"pos\"])\n",
    "        neu_scores.append(sentiments[\"neu\"])\n",
    "        neg_scores.append(sentiments[\"neg\"])\n",
    "    pos_score= sum(pos_scores) / len(pos_scores)\n",
    "    neu_score= sum(neu_scores) / len(neu_scores)\n",
    "    neg_score= sum(neg_scores) / len(neg_scores)    \n",
    "    return [pos_score,neu_score,neg_score]\n",
    "#print(sentiment_countifier_individual(adj_lawyer))\n"
   ]
  },
  {
   "cell_type": "code",
   "execution_count": 26,
   "metadata": {},
   "outputs": [],
   "source": [
    "from nltk.tokenize.treebank import TreebankWordDetokenizer\n",
    "def find_sentences_with_keyword(keyword, text):\n",
    "    \"\"\"\n",
    "    Find the sentence that contextualizes the occurence of a keyword and return a list\n",
    "    of indices that represent the range of each sentence containing the keyword.\n",
    "    \n",
    "    Args:\n",
    "        keyword: a string representing a word to contextualize in a sentence.\n",
    "        text: a tokenized text given as a list of strings of words and punctuation.\n",
    "        \n",
    "    Returns:\n",
    "        A list of strings that are sentences containing the keyword.\n",
    "    \"\"\"\n",
    "    keyword_locations = find_occurances_of_keyword(keyword, text)\n",
    "    end_punctuation = [\".\", \"!\", \"?\"]\n",
    "    sentence_ranges = []\n",
    "    for i in keyword_locations:\n",
    "        next_word = i + 1\n",
    "        while text[next_word] not in end_punctuation:\n",
    "            next_word += 1\n",
    "        end_location = next_word + 1\n",
    "        previous_word = i-1\n",
    "        while text[previous_word] not in end_punctuation:\n",
    "            previous_word -= 1\n",
    "        start_location = previous_word + 1\n",
    "        if (start_location, end_location) not in sentence_ranges:\n",
    "            sentence_ranges.append((start_location, end_location))\n",
    "    sentences=[]\n",
    "    for range_ in sentence_ranges:\n",
    "        new_sentence=TreebankWordDetokenizer().detokenize((text[range_[0]:range_[1]]))\n",
    "        sentences.append(new_sentence.replace(\" ’ \", \"’\"))\n",
    "    return sentences\n"
   ]
  },
  {
   "cell_type": "code",
   "execution_count": 27,
   "metadata": {},
   "outputs": [],
   "source": [
    "import spacy\n",
    "def look_for_adjectives(word,sentence):\n",
    "    nlp = spacy.load(\"en_core_web_sm\")\n",
    "    doc = nlp(sentence)\n",
    "    adjectives=[]\n",
    "    for token in doc:\n",
    "        #print(token.text +\" \"+token.dep_+\" \"+token.head.text+\" \"+token.pos_)\n",
    "        working_token=token\n",
    "        while working_token.dep_ != \"ROOT\":\n",
    "            if working_token.head.text==word and (token.pos_==(\"ADJ\")):\n",
    "                adjectives.append(token.text)\n",
    "                break\n",
    "            if working_token.head.text==working_token.text:\n",
    "                break\n",
    "            working_token=working_token.head\n",
    "    return adjectives\n",
    "\n"
   ]
  },
  {
   "cell_type": "markdown",
   "metadata": {},
   "source": []
  },
  {
   "cell_type": "code",
   "execution_count": 28,
   "metadata": {},
   "outputs": [],
   "source": [
    "def find_adj_in_all_sentences(keyword,path):\n",
    "    with open(path) as book:\n",
    "        contents = book.read()\n",
    "        text = nltk.word_tokenize(contents)\n",
    "        #parts_of_speech = nltk.pos_tag(tokens)\n",
    "    adj=[]\n",
    "    for item in find_sentences_with_keyword(keyword, text):\n",
    "        adj+=look_for_adjectives(keyword,item)\n",
    "    return adj\n"
   ]
  },
  {
   "cell_type": "code",
   "execution_count": 29,
   "metadata": {},
   "outputs": [],
   "source": [
    "def expand_keywords(keywords_):\n",
    "    new_keywords=keywords_[:]\n",
    "    for word in keywords_:\n",
    "        new_keywords.append(word+\"s\")\n",
    "        new_keywords.append(word.capitalize())\n",
    "        new_keywords.append((word+\"s\").capitalize())\n",
    "    return new_keywords\n"
   ]
  },
  {
   "cell_type": "code",
   "execution_count": 31,
   "metadata": {},
   "outputs": [],
   "source": [
    "def find_adj_in_all_books(keywords):\n",
    "    keywords=expand_keywords(keywords)\n",
    "    adj=[]\n",
    "    for word in keywords:\n",
    "        for book in os.listdir(\"BooksCleaned\"):\n",
    "            adj+=(find_adj_in_all_sentences(word,f'BooksCleaned/{book}')) \n",
    "        return(adj)\n"
   ]
  },
  {
   "cell_type": "code",
   "execution_count": 33,
   "metadata": {},
   "outputs": [],
   "source": [
    "def find_adj_all_words_all_books(wordbank):\n",
    "    adj_list = []\n",
    "    for list in wordbank:\n",
    "        adj_list.append(find_adj_in_all_books(list))\n",
    "    return adj_list"
   ]
  },
  {
   "cell_type": "code",
   "execution_count": 25,
   "metadata": {},
   "outputs": [
    {
     "name": "stdout",
     "output_type": "stream",
     "text": [
      "[['nice', 'unfortunate', 'short', 'rusty', 'able', 'able', 'pleasant', 'able', 'great', 'imperturbable', 'shrewd', 'damp', 'fine', 'English', 'English', 'old', 'English', 'pertinacious', 'Swiss', 'certain', 'large', 'mysterious', 'great'], ['faded', 'bereaved', 'strange', 'dear', 'other', 'other', 'young', 'old', 'old', 'old', 'old', 'old', 'old', 'old', 'wholesome', 'own', 'little', 'more', 'monthly', 'little', 'old', 'elder', 'professional', 'small', 'little', 'fond', 'faithful', 'other', 'dear', 'old', 'much', 'dear', 'old', 'other', 'dear', 'old', 'much', 'other', 'Catholic', 'Catholic', 'best', 'kindest', 'little', 'good', 'dear', 'old', 'tender', 'little', 'little', 'little', 'kind', 'old', 'Kind', 'gentlest', 'best', 'whole', 'monthly', 'sympathetic', 'remorseless', 'unsympathetic', 'sick', 'poor', 'new', 'insalubrious', 'flabby', 'boned', 'coarse', '’The', 'old', 'old', 'minded', 'old', 'old', 'dead', 'long', 'gentle', 'little', 'unconscious', 'little', 'other', 'dear', 'old', 'much', 'dear', 'old', 'worthy', 'excellent', 'several'], ['little', 'many', 'daily', 'weekly', 'constant', 'slim', 'graceful', 'Honourable', 'present', 'own', 'little', 'little', 'more', 'old', 'whatsoever', 'whatsoever', 'gay', 'young', 'rosy', 'fair', 'old', 'new', 'beautiful', 'old', 'last', 'new', 'young', 'open', 'open', 'French', 'favorite', 'faithful', 'own', 'simple', 'blonde', 'brown', 'other', 'untrue', 'false', 'little', 'little', 'open', 'curious', 'whatsoever', 'curious', 'young', 'pretty', 'fair', 'young', 'impressible']]\n"
     ]
    }
   ],
   "source": [
    "print(find_adj_all_words_all_books(word_bank[:3]))"
   ]
  },
  {
   "cell_type": "code",
   "execution_count": 30,
   "metadata": {},
   "outputs": [],
   "source": [
    "def write_adj_list_to_file(wordbank, filename):\n",
    "    adj_list = find_adj_all_words_all_books(wordbank)\n",
    "    with open(f'Outputs/{filename}.txt', 'w') as f:\n",
    "        for item in adj_list:\n",
    "            f.write(str(item) + \"\\n\")"
   ]
  },
  {
   "cell_type": "code",
   "execution_count": 31,
   "metadata": {},
   "outputs": [],
   "source": [
    "write_adj_list_to_file(word_bank, \"all_adjectives_expanded\")"
   ]
  }
 ],
 "metadata": {
  "interpreter": {
   "hash": "f45d27ef87abeaa05ab51a1f930e19baf32562d96191c86f18389cce06bff4cf"
  },
  "kernelspec": {
   "display_name": "Python 3.9.7 ('base')",
   "language": "python",
   "name": "python3"
  },
  "language_info": {
   "codemirror_mode": {
    "name": "ipython",
    "version": 3
   },
   "file_extension": ".py",
   "mimetype": "text/x-python",
   "name": "python",
   "nbconvert_exporter": "python",
   "pygments_lexer": "ipython3",
   "version": "3.9.7"
  },
  "orig_nbformat": 4
 },
 "nbformat": 4,
 "nbformat_minor": 2
}
