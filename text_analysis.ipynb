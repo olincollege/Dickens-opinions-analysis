{
 "cells": [
  {
   "cell_type": "code",
   "execution_count": null,
   "metadata": {},
   "outputs": [],
   "source": []
  },
  {
   "cell_type": "code",
   "execution_count": 41,
   "metadata": {},
   "outputs": [
    {
     "name": "stderr",
     "output_type": "stream",
     "text": [
      "[nltk_data] Downloading package punkt to /home/jprism/nltk_data...\n",
      "[nltk_data]   Package punkt is already up-to-date!\n",
      "[nltk_data] Downloading package averaged_perceptron_tagger to\n",
      "[nltk_data]     /home/jprism/nltk_data...\n",
      "[nltk_data]   Package averaged_perceptron_tagger is already up-to-\n",
      "[nltk_data]       date!\n"
     ]
    }
   ],
   "source": [
    "import nltk\n",
    "import os\n",
    "nltk.download('punkt')\n",
    "nltk.download('averaged_perceptron_tagger')\n",
    "\n",
    "with open(\"BooksCleaned/Book46.txt\") as book:\n",
    "    contents = book.read()\n",
    "    #print(contents)\n",
    "    tokens = nltk.word_tokenize(contents)\n",
    "    #print(tokens)\n",
    "    parts_of_speech = nltk.pos_tag(tokens)\n",
    "    #print(parts_of_speech)\n"
   ]
  },
  {
   "cell_type": "code",
   "execution_count": 23,
   "metadata": {},
   "outputs": [
    {
     "name": "stdout",
     "output_type": "stream",
     "text": [
      "['worse', 'worse', 'worse', 'worsened', 'bad', 'bad', 'big', 'bad', 'tough', 'bad', 'spoiled', 'spoilt', 'regretful', 'sorry', 'bad', 'bad', 'uncollectible', 'bad', 'bad', 'bad', 'risky', 'high-risk', 'speculative', 'bad', 'unfit', 'unsound', 'bad', 'bad', 'bad', 'forged', 'bad', 'defective', 'worse']\n"
     ]
    }
   ],
   "source": [
    "import nltk\n",
    "from nltk.corpus import wordnet   #Import wordnet from the NLTK\n",
    "def find_syn(keyword):    \n",
    "    syn = list()\n",
    "    for synset in wordnet.synsets(keyword):\n",
    "        for lemma in synset.lemmas():\n",
    "            syn.append(lemma.name())    #add the synonyms\n",
    "    #print('Synonyms: ' + str(syn))\n",
    "    return str(syn)"
   ]
  },
  {
   "cell_type": "code",
   "execution_count": 28,
   "metadata": {},
   "outputs": [],
   "source": [
    "def find_occurances_of_keyword(keyword,text):\n",
    "    list_of_indexes=[]\n",
    "    for index,word in enumerate(text):\n",
    "        if keyword in word:\n",
    "            list_of_indexes.append(index)\n",
    "    return list_of_indexes"
   ]
  },
  {
   "cell_type": "code",
   "execution_count": 45,
   "metadata": {},
   "outputs": [],
   "source": [
    "def find_adjectives(indexes, parts_of_speech_list):\n",
    "    list_of_adjectives=[]\n",
    "    for index in indexes:\n",
    "        if parts_of_speech_list[index-1][1]==\"JJ\" or \\\n",
    "        parts_of_speech_list[index-1][1]==\"JJR\" \\\n",
    "        or parts_of_speech_list[index-1][1]==\"JJS\":\n",
    "            list_of_adjectives.append(parts_of_speech_list[index-1][0])\n",
    "    return list_of_adjectives"
   ]
  },
  {
   "cell_type": "code",
   "execution_count": 40,
   "metadata": {},
   "outputs": [
    {
     "data": {
      "text/plain": [
       "['old', 'old', 'old']"
      ]
     },
     "execution_count": 40,
     "metadata": {},
     "output_type": "execute_result"
    }
   ],
   "source": [
    "def find_words_that_describe_keyword(keyword,path):\n",
    "    with open(path) as book:\n",
    "        contents = book.read()\n",
    "        tokens = nltk.word_tokenize(contents)\n",
    "        parts_of_speech = nltk.pos_tag(tokens)\n",
    "    keyword_indexes=find_occurances_of_keyword(keyword,tokens)\n",
    "    adjectives=find_adjectives(keyword_indexes,parts_of_speech)\n",
    "    return adjectives\n",
    "find_words_that_describe_keyword(\"gentleman\", \"BooksCleaned/Book922.txt\")"
   ]
  },
  {
   "cell_type": "code",
   "execution_count": 54,
   "metadata": {},
   "outputs": [],
   "source": [
    "def find_words_in_all_books_that_describe_keyword(keyword):\n",
    "    adj=[]\n",
    "    for book in os.listdir(\"BooksCleaned\"):\n",
    "        adj+=(find_words_that_describe_keyword(keyword,f'BooksCleaned/{book}')) \n",
    "    return(adj)\n",
    "adj_lawyer=find_words_in_all_books_that_describe_keyword(\"lawyer\")"
   ]
  },
  {
   "cell_type": "code",
   "execution_count": 61,
   "metadata": {},
   "outputs": [
    {
     "name": "stdout",
     "output_type": "stream",
     "text": [
      "dreadful nice unfortunate good same great good able able able great such imperturbable shrewd stray damp fine old pertinacious\n",
      "{'neg': 0.166, 'neu': 0.31, 'pos': 0.524, 'compound': 0.9136}\n",
      "{'neg': 1.0, 'neu': 0.0, 'pos': 0.0, 'compound': -0.4404}\n",
      "{'neg': 0.0, 'neu': 0.0, 'pos': 1.0, 'compound': 0.4215}\n",
      "{'neg': 1.0, 'neu': 0.0, 'pos': 0.0, 'compound': -0.4588}\n",
      "{'neg': 0.0, 'neu': 0.0, 'pos': 1.0, 'compound': 0.4404}\n",
      "{'neg': 0.0, 'neu': 1.0, 'pos': 0.0, 'compound': 0.0}\n",
      "{'neg': 0.0, 'neu': 0.0, 'pos': 1.0, 'compound': 0.6249}\n",
      "{'neg': 0.0, 'neu': 0.0, 'pos': 1.0, 'compound': 0.4404}\n",
      "{'neg': 0.0, 'neu': 1.0, 'pos': 0.0, 'compound': 0.0}\n",
      "{'neg': 0.0, 'neu': 1.0, 'pos': 0.0, 'compound': 0.0}\n",
      "{'neg': 0.0, 'neu': 1.0, 'pos': 0.0, 'compound': 0.0}\n",
      "{'neg': 0.0, 'neu': 0.0, 'pos': 1.0, 'compound': 0.6249}\n",
      "{'neg': 0.0, 'neu': 1.0, 'pos': 0.0, 'compound': 0.0}\n",
      "{'neg': 0.0, 'neu': 1.0, 'pos': 0.0, 'compound': 0.0}\n",
      "{'neg': 0.0, 'neu': 1.0, 'pos': 0.0, 'compound': 0.0}\n",
      "{'neg': 0.0, 'neu': 1.0, 'pos': 0.0, 'compound': 0.0}\n",
      "{'neg': 0.0, 'neu': 1.0, 'pos': 0.0, 'compound': 0.0}\n",
      "{'neg': 0.0, 'neu': 0.0, 'pos': 1.0, 'compound': 0.2023}\n",
      "{'neg': 0.0, 'neu': 1.0, 'pos': 0.0, 'compound': 0.0}\n",
      "{'neg': 0.0, 'neu': 1.0, 'pos': 0.0, 'compound': 0.0}\n",
      "[0.3157894736842105, 0.5789473684210527, 0.10526315789473684]\n"
     ]
    },
    {
     "name": "stderr",
     "output_type": "stream",
     "text": [
      "[nltk_data] Downloading package vader_lexicon to\n",
      "[nltk_data]     /home/jprism/nltk_data...\n",
      "[nltk_data]   Package vader_lexicon is already up-to-date!\n"
     ]
    }
   ],
   "source": [
    "from nltk.sentiment import SentimentIntensityAnalyzer\n",
    "nltk.download('vader_lexicon')\n",
    "#def sentiment_countifier(adjectives):\n",
    "#    sia = SentimentIntensityAnalyzer()\n",
    "#    str1 = \" \" \n",
    "#    words =str1.join(adjectives)    \n",
    "#    print(words)\n",
    "#    sentiments = sia.polarity_scores(words)\n",
    "#    return sentiments\n",
    "#print(sentiment_countifier(adj_lawyer))\n",
    "def sentiment_countifier_individual(adjectives):\n",
    "    sia = SentimentIntensityAnalyzer()\n",
    "    pos_scores=[]    \n",
    "    neu_scores=[]    \n",
    "    neg_scores=[] \n",
    "    for word in adjectives:    \n",
    "        sentiments = sia.polarity_scores(word)\n",
    "        print(sentiments)\n",
    "        pos_scores.append(sentiments[\"pos\"])\n",
    "        neu_scores.append(sentiments[\"neu\"])\n",
    "        neg_scores.append(sentiments[\"neg\"])\n",
    "    pos_score= sum(pos_scores) / len(pos_scores)\n",
    "    neu_score= sum(neu_scores) / len(neu_scores)\n",
    "    neg_score= sum(neg_scores) / len(neg_scores)    \n",
    "    return [pos_score,neu_score,neg_score]\n",
    "print(sentiment_countifier_individual(adj_lawyer))\n"
   ]
  }
 ],
 "metadata": {
  "interpreter": {
   "hash": "f45d27ef87abeaa05ab51a1f930e19baf32562d96191c86f18389cce06bff4cf"
  },
  "kernelspec": {
   "display_name": "Python 3.9.7 ('base')",
   "language": "python",
   "name": "python3"
  },
  "language_info": {
   "codemirror_mode": {
    "name": "ipython",
    "version": 3
   },
   "file_extension": ".py",
   "mimetype": "text/x-python",
   "name": "python",
   "nbconvert_exporter": "python",
   "pygments_lexer": "ipython3",
   "version": "3.9.7"
  },
  "orig_nbformat": 4
 },
 "nbformat": 4,
 "nbformat_minor": 2
}
