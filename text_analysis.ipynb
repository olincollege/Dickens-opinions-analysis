{
 "cells": [
  {
   "cell_type": "code",
   "execution_count": null,
   "metadata": {},
   "outputs": [],
   "source": []
  },
  {
   "cell_type": "code",
   "execution_count": 2,
   "metadata": {},
   "outputs": [
    {
     "name": "stderr",
     "output_type": "stream",
     "text": [
      "[nltk_data] Downloading package punkt to\n",
      "[nltk_data]     /home/malvinaclavering/nltk_data...\n",
      "[nltk_data]   Unzipping tokenizers/punkt.zip.\n",
      "[nltk_data] Downloading package averaged_perceptron_tagger to\n",
      "[nltk_data]     /home/malvinaclavering/nltk_data...\n",
      "[nltk_data]   Unzipping taggers/averaged_perceptron_tagger.zip.\n"
     ]
    }
   ],
   "source": [
    "import nltk\n",
    "import os\n",
    "nltk.download('punkt')\n",
    "nltk.download('averaged_perceptron_tagger')\n",
    "\n",
    "with open(\"BooksCleaned/Book46.txt\") as book:\n",
    "    contents = book.read()\n",
    "    #print(contents)\n",
    "    tokens = nltk.word_tokenize(contents)\n",
    "    #print(tokens)\n",
    "    parts_of_speech = nltk.pos_tag(tokens)\n",
    "    #print(parts_of_speech)\n"
   ]
  },
  {
   "cell_type": "code",
   "execution_count": 3,
   "metadata": {},
   "outputs": [],
   "source": [
    "import nltk\n",
    "from nltk.corpus import wordnet   #Import wordnet from the NLTK\n",
    "def find_syn(keyword):    \n",
    "    syn = list()\n",
    "    for synset in wordnet.synsets(keyword):\n",
    "        for lemma in synset.lemmas():\n",
    "            syn.append(lemma.name())    #add the synonyms\n",
    "    #print('Synonyms: ' + str(syn))\n",
    "    return str(syn)"
   ]
  },
  {
   "cell_type": "code",
   "execution_count": 32,
   "metadata": {},
   "outputs": [],
   "source": [
    "def find_occurances_of_keyword(keyword,text):\n",
    "    list_of_indexes=[]\n",
    "    for index,word in enumerate(text):\n",
    "        if keyword == word:\n",
    "            list_of_indexes.append(index)\n",
    "    return list_of_indexes"
   ]
  },
  {
   "cell_type": "code",
   "execution_count": 6,
   "metadata": {},
   "outputs": [],
   "source": [
    "def find_adjectives(indexes, parts_of_speech_list):\n",
    "    list_of_adjectives=[]\n",
    "    for index in indexes:\n",
    "        if parts_of_speech_list[index-1][1]==\"JJ\" or \\\n",
    "        parts_of_speech_list[index-1][1]==\"JJR\" \\\n",
    "        or parts_of_speech_list[index-1][1]==\"JJS\":\n",
    "            list_of_adjectives.append(parts_of_speech_list[index-1][0])\n",
    "    return list_of_adjectives"
   ]
  },
  {
   "cell_type": "code",
   "execution_count": 7,
   "metadata": {},
   "outputs": [
    {
     "data": {
      "text/plain": [
       "['old', 'old', 'old']"
      ]
     },
     "execution_count": 7,
     "metadata": {},
     "output_type": "execute_result"
    }
   ],
   "source": [
    "def find_words_that_describe_keyword(keyword,path):\n",
    "    with open(path) as book:\n",
    "        contents = book.read()\n",
    "        tokens = nltk.word_tokenize(contents)\n",
    "        parts_of_speech = nltk.pos_tag(tokens)\n",
    "    keyword_indexes=find_occurances_of_keyword(keyword,tokens)\n",
    "    adjectives=find_adjectives(keyword_indexes,parts_of_speech)\n",
    "    return adjectives\n",
    "find_words_that_describe_keyword(\"gentleman\", \"BooksCleaned/Book922.txt\")"
   ]
  },
  {
   "cell_type": "code",
   "execution_count": 54,
   "metadata": {},
   "outputs": [],
   "source": [
    "def find_words_in_all_books_that_describe_keyword(keyword):\n",
    "    adj=[]\n",
    "    for book in os.listdir(\"BooksCleaned\"):\n",
    "        adj+=(find_words_that_describe_keyword(keyword,f'BooksCleaned/{book}')) \n",
    "    return(adj)\n",
    "adj_lawyer=find_words_in_all_books_that_describe_keyword(\"lawyer\")"
   ]
  },
  {
   "cell_type": "code",
   "execution_count": 33,
   "metadata": {},
   "outputs": [
    {
     "name": "stderr",
     "output_type": "stream",
     "text": [
      "[nltk_data] Downloading package vader_lexicon to\n",
      "[nltk_data]     /home/malvinaclavering/nltk_data...\n",
      "[nltk_data]   Package vader_lexicon is already up-to-date!\n"
     ]
    },
    {
     "ename": "NameError",
     "evalue": "name 'adj_lawyer' is not defined",
     "output_type": "error",
     "traceback": [
      "\u001b[0;31m---------------------------------------------------------------------------\u001b[0m",
      "\u001b[0;31mNameError\u001b[0m                                 Traceback (most recent call last)",
      "\u001b[0;32m/tmp/ipykernel_890/1848402096.py\u001b[0m in \u001b[0;36m<module>\u001b[0;34m\u001b[0m\n\u001b[1;32m     24\u001b[0m     \u001b[0mneg_score\u001b[0m\u001b[0;34m=\u001b[0m \u001b[0msum\u001b[0m\u001b[0;34m(\u001b[0m\u001b[0mneg_scores\u001b[0m\u001b[0;34m)\u001b[0m \u001b[0;34m/\u001b[0m \u001b[0mlen\u001b[0m\u001b[0;34m(\u001b[0m\u001b[0mneg_scores\u001b[0m\u001b[0;34m)\u001b[0m\u001b[0;34m\u001b[0m\u001b[0;34m\u001b[0m\u001b[0m\n\u001b[1;32m     25\u001b[0m     \u001b[0;32mreturn\u001b[0m \u001b[0;34m[\u001b[0m\u001b[0mpos_score\u001b[0m\u001b[0;34m,\u001b[0m\u001b[0mneu_score\u001b[0m\u001b[0;34m,\u001b[0m\u001b[0mneg_score\u001b[0m\u001b[0;34m]\u001b[0m\u001b[0;34m\u001b[0m\u001b[0;34m\u001b[0m\u001b[0m\n\u001b[0;32m---> 26\u001b[0;31m \u001b[0mprint\u001b[0m\u001b[0;34m(\u001b[0m\u001b[0msentiment_countifier_individual\u001b[0m\u001b[0;34m(\u001b[0m\u001b[0madj_lawyer\u001b[0m\u001b[0;34m)\u001b[0m\u001b[0;34m)\u001b[0m\u001b[0;34m\u001b[0m\u001b[0;34m\u001b[0m\u001b[0m\n\u001b[0m",
      "\u001b[0;31mNameError\u001b[0m: name 'adj_lawyer' is not defined"
     ]
    }
   ],
   "source": [
    "from nltk.sentiment import SentimentIntensityAnalyzer\n",
    "nltk.download('vader_lexicon')\n",
    "#def sentiment_countifier(adjectives):\n",
    "#    sia = SentimentIntensityAnalyzer()\n",
    "#    str1 = \" \" \n",
    "#    words =str1.join(adjectives)    \n",
    "#    print(words)\n",
    "#    sentiments = sia.polarity_scores(words)\n",
    "#    return sentiments\n",
    "#print(sentiment_countifier(adj_lawyer))\n",
    "def sentiment_countifier_individual(adjectives):\n",
    "    sia = SentimentIntensityAnalyzer()\n",
    "    pos_scores=[]    \n",
    "    neu_scores=[]    \n",
    "    neg_scores=[] \n",
    "    for word in adjectives:    \n",
    "        sentiments = sia.polarity_scores(word)\n",
    "        print(sentiments)\n",
    "        pos_scores.append(sentiments[\"pos\"])\n",
    "        neu_scores.append(sentiments[\"neu\"])\n",
    "        neg_scores.append(sentiments[\"neg\"])\n",
    "    pos_score= sum(pos_scores) / len(pos_scores)\n",
    "    neu_score= sum(neu_scores) / len(neu_scores)\n",
    "    neg_score= sum(neg_scores) / len(neg_scores)    \n",
    "    return [pos_score,neu_score,neg_score]\n",
    "print(sentiment_countifier_individual(adj_lawyer))\n"
   ]
  },
  {
   "cell_type": "code",
   "execution_count": 38,
   "metadata": {},
   "outputs": [
    {
     "data": {
      "text/plain": [
       "[(435, 511),\n",
       " (2508, 2533),\n",
       " (2567, 2617),\n",
       " (2649, 2665),\n",
       " (2687, 2704),\n",
       " (2770, 2819),\n",
       " (2988, 3001),\n",
       " (3444, 3494),\n",
       " (11675, 11752),\n",
       " (12041, 12091),\n",
       " (26584, 26609),\n",
       " (26701, 26725),\n",
       " (31263, 31286),\n",
       " (34164, 34203),\n",
       " (34203, 34240),\n",
       " (34240, 34263),\n",
       " (34348, 34361),\n",
       " (34466, 34472)]"
      ]
     },
     "execution_count": 38,
     "metadata": {},
     "output_type": "execute_result"
    }
   ],
   "source": [
    "def find_sentences_with_keyword(keyword, text):\n",
    "    \"\"\"\n",
    "    Find the sentence that contextualizes the occurence of a keyword and return a list\n",
    "    of indices that represent the range of each sentence containing the keyword.\n",
    "    \n",
    "    Args:\n",
    "        keyword: a string representing a word to contextualize in a sentence.\n",
    "        text: a tokenized text given as a list of strings of words and punctuation.\n",
    "        \n",
    "    Returns:\n",
    "        A list of tuples representing the ranges of each sentence containing the keyword.\"\"\"\n",
    "    keyword_locations = find_occurances_of_keyword(keyword, text)\n",
    "    end_punctuation = [\".\", \"!\", \"?\"]\n",
    "    sentence_ranges = []\n",
    "    for i in keyword_locations:\n",
    "        next_word = i + 1\n",
    "        while text[next_word] not in end_punctuation:\n",
    "            next_word += 1\n",
    "        end_location = next_word + 1\n",
    "        previous_word = i-1\n",
    "        while text[previous_word] not in end_punctuation:\n",
    "            previous_word -= 1\n",
    "        start_location = previous_word + 1\n",
    "        sentence_ranges.append((start_location, end_location))\n",
    "    return sentence_ranges\n",
    "\n",
    "find_sentences_with_keyword(\"gentleman\", tokens)\n"
   ]
  }
 ],
 "metadata": {
  "interpreter": {
   "hash": "f45d27ef87abeaa05ab51a1f930e19baf32562d96191c86f18389cce06bff4cf"
  },
  "kernelspec": {
   "display_name": "Python 3.9.7 ('base')",
   "language": "python",
   "name": "python3"
  },
  "language_info": {
   "codemirror_mode": {
    "name": "ipython",
    "version": 3
   },
   "file_extension": ".py",
   "mimetype": "text/x-python",
   "name": "python",
   "nbconvert_exporter": "python",
   "pygments_lexer": "ipython3",
   "version": "3.9.7"
  },
  "orig_nbformat": 4
 },
 "nbformat": 4,
 "nbformat_minor": 2
}
