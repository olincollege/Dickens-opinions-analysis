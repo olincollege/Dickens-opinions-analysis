{
 "cells": [
  {
   "cell_type": "code",
   "execution_count": null,
   "metadata": {},
   "outputs": [],
   "source": []
  },
  {
   "cell_type": "code",
   "execution_count": 7,
   "metadata": {},
   "outputs": [
    {
     "name": "stderr",
     "output_type": "stream",
     "text": [
      "[nltk_data] Downloading package punkt to /home/jprism/nltk_data...\n",
      "[nltk_data]   Package punkt is already up-to-date!\n",
      "[nltk_data] Downloading package averaged_perceptron_tagger to\n",
      "[nltk_data]     /home/jprism/nltk_data...\n",
      "[nltk_data]   Package averaged_perceptron_tagger is already up-to-\n",
      "[nltk_data]       date!\n"
     ]
    }
   ],
   "source": [
    "import nltk\n",
    "import os\n",
    "nltk.download('punkt')\n",
    "nltk.download('averaged_perceptron_tagger')\n",
    "\n",
    "with open(\"BooksCleaned/Book46.txt\") as book:\n",
    "    contents = book.read()\n",
    "    #print(contents)\n",
    "    tokens = nltk.word_tokenize(contents)\n",
    "    #print(tokens)\n",
    "    parts_of_speech = nltk.pos_tag(tokens)\n",
    "    #print(parts_of_speech)\n"
   ]
  },
  {
   "cell_type": "code",
   "execution_count": 8,
   "metadata": {},
   "outputs": [],
   "source": [
    "import nltk\n",
    "from nltk.corpus import wordnet   #Import wordnet from the NLTK\n",
    "def find_syn(keyword):    \n",
    "    syn = list()\n",
    "    for synset in wordnet.synsets(keyword):\n",
    "        for lemma in synset.lemmas():\n",
    "            syn.append(lemma.name())    #add the synonyms\n",
    "    #print('Synonyms: ' + str(syn))\n",
    "    return str(syn)"
   ]
  },
  {
   "cell_type": "code",
   "execution_count": 9,
   "metadata": {},
   "outputs": [],
   "source": [
    "def find_occurances_of_keyword(keyword,text):\n",
    "    list_of_indexes=[]\n",
    "    for index,word in enumerate(text):\n",
    "        if keyword == word:\n",
    "            list_of_indexes.append(index)\n",
    "    return list_of_indexes"
   ]
  },
  {
   "cell_type": "code",
   "execution_count": 10,
   "metadata": {},
   "outputs": [],
   "source": [
    "def find_adjectives(indexes, parts_of_speech_list):\n",
    "    list_of_adjectives=[]\n",
    "    for index in indexes:\n",
    "        if parts_of_speech_list[index-1][1]==\"JJ\" or \\\n",
    "        parts_of_speech_list[index-1][1]==\"JJR\" \\\n",
    "        or parts_of_speech_list[index-1][1]==\"JJS\":\n",
    "            list_of_adjectives.append(parts_of_speech_list[index-1][0])\n",
    "    return list_of_adjectives"
   ]
  },
  {
   "cell_type": "code",
   "execution_count": 11,
   "metadata": {},
   "outputs": [
    {
     "data": {
      "text/plain": [
       "['old', 'old', 'old']"
      ]
     },
     "execution_count": 11,
     "metadata": {},
     "output_type": "execute_result"
    }
   ],
   "source": [
    "def find_words_that_describe_keyword(keyword,path):\n",
    "    with open(path) as book:\n",
    "        contents = book.read()\n",
    "        tokens = nltk.word_tokenize(contents)\n",
    "        parts_of_speech = nltk.pos_tag(tokens)\n",
    "    keyword_indexes=find_occurances_of_keyword(keyword,tokens)\n",
    "    adjectives=find_adjectives(keyword_indexes,parts_of_speech)\n",
    "    return adjectives\n",
    "find_words_that_describe_keyword(\"gentleman\", \"BooksCleaned/Book922.txt\")"
   ]
  },
  {
   "cell_type": "code",
   "execution_count": 12,
   "metadata": {},
   "outputs": [],
   "source": [
    "def find_words_in_all_books_that_describe_keyword(keyword):\n",
    "    adj=[]\n",
    "    for book in os.listdir(\"BooksCleaned\"):\n",
    "        adj+=(find_words_that_describe_keyword(keyword,f'BooksCleaned/{book}')) \n",
    "    return(adj)\n",
    "#adj_lawyer=find_words_in_all_books_that_describe_keyword(\"lawyer\")"
   ]
  },
  {
   "cell_type": "code",
   "execution_count": 13,
   "metadata": {},
   "outputs": [
    {
     "name": "stderr",
     "output_type": "stream",
     "text": [
      "[nltk_data] Downloading package vader_lexicon to\n",
      "[nltk_data]     /home/jprism/nltk_data...\n",
      "[nltk_data]   Package vader_lexicon is already up-to-date!\n"
     ]
    },
    {
     "ename": "NameError",
     "evalue": "name 'adj_lawyer' is not defined",
     "output_type": "error",
     "traceback": [
      "\u001b[0;31m---------------------------------------------------------------------------\u001b[0m",
      "\u001b[0;31mNameError\u001b[0m                                 Traceback (most recent call last)",
      "\u001b[0;32m/tmp/ipykernel_442/1848402096.py\u001b[0m in \u001b[0;36m<module>\u001b[0;34m\u001b[0m\n\u001b[1;32m     24\u001b[0m     \u001b[0mneg_score\u001b[0m\u001b[0;34m=\u001b[0m \u001b[0msum\u001b[0m\u001b[0;34m(\u001b[0m\u001b[0mneg_scores\u001b[0m\u001b[0;34m)\u001b[0m \u001b[0;34m/\u001b[0m \u001b[0mlen\u001b[0m\u001b[0;34m(\u001b[0m\u001b[0mneg_scores\u001b[0m\u001b[0;34m)\u001b[0m\u001b[0;34m\u001b[0m\u001b[0;34m\u001b[0m\u001b[0m\n\u001b[1;32m     25\u001b[0m     \u001b[0;32mreturn\u001b[0m \u001b[0;34m[\u001b[0m\u001b[0mpos_score\u001b[0m\u001b[0;34m,\u001b[0m\u001b[0mneu_score\u001b[0m\u001b[0;34m,\u001b[0m\u001b[0mneg_score\u001b[0m\u001b[0;34m]\u001b[0m\u001b[0;34m\u001b[0m\u001b[0;34m\u001b[0m\u001b[0m\n\u001b[0;32m---> 26\u001b[0;31m \u001b[0mprint\u001b[0m\u001b[0;34m(\u001b[0m\u001b[0msentiment_countifier_individual\u001b[0m\u001b[0;34m(\u001b[0m\u001b[0madj_lawyer\u001b[0m\u001b[0;34m)\u001b[0m\u001b[0;34m)\u001b[0m\u001b[0;34m\u001b[0m\u001b[0;34m\u001b[0m\u001b[0m\n\u001b[0m",
      "\u001b[0;31mNameError\u001b[0m: name 'adj_lawyer' is not defined"
     ]
    }
   ],
   "source": [
    "from nltk.sentiment import SentimentIntensityAnalyzer\n",
    "nltk.download('vader_lexicon')\n",
    "#def sentiment_countifier(adjectives):\n",
    "#    sia = SentimentIntensityAnalyzer()\n",
    "#    str1 = \" \" \n",
    "#    words =str1.join(adjectives)    \n",
    "#    print(words)\n",
    "#    sentiments = sia.polarity_scores(words)\n",
    "#    return sentiments\n",
    "#print(sentiment_countifier(adj_lawyer))\n",
    "def sentiment_countifier_individual(adjectives):\n",
    "    sia = SentimentIntensityAnalyzer()\n",
    "    pos_scores=[]    \n",
    "    neu_scores=[]    \n",
    "    neg_scores=[] \n",
    "    for word in adjectives:    \n",
    "        sentiments = sia.polarity_scores(word)\n",
    "        print(sentiments)\n",
    "        pos_scores.append(sentiments[\"pos\"])\n",
    "        neu_scores.append(sentiments[\"neu\"])\n",
    "        neg_scores.append(sentiments[\"neg\"])\n",
    "    pos_score= sum(pos_scores) / len(pos_scores)\n",
    "    neu_score= sum(neu_scores) / len(neu_scores)\n",
    "    neg_score= sum(neg_scores) / len(neg_scores)    \n",
    "    return [pos_score,neu_score,neg_score]\n",
    "#print(sentiment_countifier_individual(adj_lawyer))\n"
   ]
  },
  {
   "cell_type": "code",
   "execution_count": 70,
   "metadata": {},
   "outputs": [],
   "source": [
    "from nltk.tokenize.treebank import TreebankWordDetokenizer\n",
    "def find_sentences_with_keyword(keyword, text):\n",
    "    \"\"\"\n",
    "    Find the sentence that contextualizes the occurence of a keyword and return a list\n",
    "    of indices that represent the range of each sentence containing the keyword.\n",
    "    \n",
    "    Args:\n",
    "        keyword: a string representing a word to contextualize in a sentence.\n",
    "        text: a tokenized text given as a list of strings of words and punctuation.\n",
    "        \n",
    "    Returns:\n",
    "        A list of tuples representing the ranges of each sentence containing the keyword.\n",
    "    \"\"\"\n",
    "    keyword_locations = find_occurances_of_keyword(keyword, text)\n",
    "    end_punctuation = [\".\", \"!\", \"?\"]\n",
    "    sentence_ranges = []\n",
    "    for i in keyword_locations:\n",
    "        next_word = i + 1\n",
    "        while text[next_word] not in end_punctuation:\n",
    "            next_word += 1\n",
    "        end_location = next_word + 1\n",
    "        previous_word = i-1\n",
    "        while text[previous_word] not in end_punctuation:\n",
    "            previous_word -= 1\n",
    "        start_location = previous_word + 1\n",
    "        sentence_ranges.append((start_location, end_location))\n",
    "    sentences=[]\n",
    "    for range_ in sentence_ranges:\n",
    "        new_sentence=TreebankWordDetokenizer().detokenize((text[range_[0]:range_[1]]))\n",
    "        sentences.append(new_sentence.replace(\" ’ \", \"’\"))\n",
    "    return sentences\n",
    "\n",
    "#find_sentences_with_keyword(\"gentleman\", tokens)\n"
   ]
  },
  {
   "cell_type": "code",
   "execution_count": 58,
   "metadata": {},
   "outputs": [],
   "source": [
    "import spacy\n",
    "def look_for_adjectives(word,sentence):\n",
    "    nlp = spacy.load(\"en_core_web_sm\")\n",
    "    doc = nlp(sentence)\n",
    "    adjectives=[]\n",
    "    for token in doc:\n",
    "        #print(token.text +\" \"+token.dep_+\" \"+token.head.text+\" \"+token.pos_)\n",
    "        working_token=token\n",
    "        while working_token.dep_ != \"ROOT\":\n",
    "            if working_token.head.text==word and (token.pos_==(\"ADJ\")):\n",
    "                adjectives.append(token.text)\n",
    "                break\n",
    "            if working_token.head.text==working_token.text:\n",
    "                break\n",
    "            working_token=working_token.head\n",
    "    return adjectives"
   ]
  },
  {
   "cell_type": "code",
   "execution_count": 16,
   "metadata": {},
   "outputs": [],
   "source": [
    "def find_adj_in_all_sentences(keyword,path):\n",
    "    with open(path) as book:\n",
    "        contents = book.read()\n",
    "        text = nltk.word_tokenize(contents)\n",
    "        parts_of_speech = nltk.pos_tag(tokens)\n",
    "    adj=[]\n",
    "    for item in find_sentences_with_keyword(keyword, text):\n",
    "        adj+=look_for_adjectives(keyword,item)\n",
    "    return adj\n",
    "#find_adj_in_all_sentences(\"gentleman\",tokens)"
   ]
  },
  {
   "cell_type": "code",
   "execution_count": 51,
   "metadata": {},
   "outputs": [],
   "source": [
    "def expand_keywords(keywords_):\n",
    "    new_keywords=keywords_[:]\n",
    "    print(keywords_)\n",
    "    for word in keywords_:\n",
    "        print(word)\n",
    "        new_keywords.append(word+\"s\")\n",
    "        new_keywords.append(word.capitalize())\n",
    "        new_keywords.append((word+\"s\").capitalize())\n",
    "    return new_keywords"
   ]
  },
  {
   "cell_type": "code",
   "execution_count": 68,
   "metadata": {},
   "outputs": [
    {
     "name": "stdout",
     "output_type": "stream",
     "text": [
      "['lawyer']\n",
      "lawyer\n",
      "[]\n",
      "[]\n",
      "['Nell shrank timidly from all the dwarf’s advances towards conversation, and fled from the very sound of his voice; nor were the lawyer’s smiles less terrible to her than Quilp’s grimaces.', '‘ You’re a nice lawyer, an’t you?', 'The farm-yard passed, then came the little inn; the humbler beer-shop; and the village tradesman’s; then the lawyer’s and the parson’s, at whose dread names the beer-shop trembled; the church then peeped out modestly from a clump of trees; then there were a few more cottages; then the cage, and pound, and not unfrequently, on a bank by the way-side, a deep old dusty well.', '’ laughed the lawyer in an affected ecstasy.', 'Be quick and open the door, or if there’s another lawyer near and he should happen to look out of window, he’ll snap him up before your eyes, he will.’It is probable that the loss of the phoenix of clerks, even to a rival practitioner, would not have broken Mr Brass’s heart; but, pretending great alacrity, he rose from his seat, and going to the door, returned, introducing his client, who led by the hand no less a person than Mr Richard Swiveller.', 'You’re joking, sir, you’re joking with me,’replied the lawyer, putting on his hat.', '‘ I’m glad of it,’returned the single gentleman; ‘ it’s a good name for a lawyer.', '’ returned the lawyer.', '‘ The man of the house is a lawyer, is he not?', 'of brass,’said the lawyer, glancing at his clerk, to assure himself that he had suggested the word in good faith and without any sinister intention.', '’ The lawyer stopped short in his invective, and listening for a moment, and recognising the well-known voice, rested his head upon his hand, raised his eyes to the ceiling, and muttered faintly, ‘ There’s another!', '‘ I can almost fancy,’said the lawyer shaking his head, ‘ that I see his eye glistening down at the very bottom of my liquor.', '’ ‘ This is an occupation,’said the lawyer, laying down his pen and emptying his glass, ‘ which seems to bring him before my eyes like the Ghost of Hamlet’s father, in the very clothes that he wore on work-a-days.', '’ Quilp paid no regard whatever to these compliments, nor to the dubious and frightened look into which the lawyer gradually subsided, nor to the shrieks of his wife and mother-in-law, nor to the latter’s running from the room, nor to the former’s fainting away.', '‘ Good night, sir, good night,’cried the lawyer, retreating backwards towards the door.', '’ ‘ It’s delightful indeed, sir,’replied the lawyer.', '’ These complimentary expressions were uttered in a somewhat absent and distracted manner; for the unfortunate lawyer, besides having a bad cold in his head, had got wet in coming, and would have willingly borne some pecuniary sacrifice if he could have shifted his present raw quarters to a warm room, and dried himself at a fire.', 'In the height of his boisterous merriment, Mr Quilp, having on some pretence dismissed his attendant sprite for the moment, resumed his usual manner all at once, dismounted from his cask, and laid his hand upon the lawyer’s sleeve.', 'Remarkable documents,’added the lawyer, raising his eyes to the ceiling, ‘ most remarkable documents.', 'When I look at you,’said the lawyer, quitting his stool, and standing before the fire with his back towards it, ‘ I am reminded of the sweetest little face that ever my eyes beheld.', '’ ‘ I don’t, sir,’said Kit, ‘ though it isn’t for the like of me to judge.’‘ Our only consolation, Kit,’pursued the lawyer, looking at him in a sort of pensive abstraction, ‘ is, that although we cannot turn away the wind, we can soften it; we can temper it, if I may say so, to the shorn lambs.’‘ Shorn indeed!', '‘ From--’ ‘ No matter about the person they came from,’replied the lawyer.', '‘ I have been thinking, Kit,’said the lawyer, ‘ that I could throw some little emoluments in your mother’s way--You have a mother, I think?', '‘ Upon my word, Mr Richard, Sir,’replied the lawyer, feeling in all his pockets with looks of the greatest agitation, ‘ I fear this is a black business.', 'The faculty don’t consider it a healthy custom, I believe, Mr Richard, to carry one’s handkerchief in one’s hat--I have heard that it keeps the head too warm--but in every other point of view, its being there, is extremely satisfactory--extremely so.’An exclamation, at once from Richard Swiveller, Miss Sally, and Kit himself, cut the lawyer short.', 'But,’added Mr Brass with greater fortitude, ‘ I am myself a lawyer, and bound to set an example in carrying the laws of my happy country into effect.', '‘ Why not, you rogue of a lawyer, why not?', '’ murmured the lawyer, standing on tiptoe, and endeavouring to obtain a glimpse of what was passing inside, which at that distance was impossible--‘ drinking, I suppose,--making himself more fiery and furious, and heating his malice and mischievousness till they boil.', '’ Quilp had slily shaded the light by holding it against his breast, and now stood chuckling and shaking from head to foot in a rapture of delight, as he heard the lawyer stumbling up the yard, and now and then falling heavily down.']\n",
      "[]\n",
      "['let the lawyer plead in the court, and the judge expound the law.', 'Shakespeare, besides being a sportsman, a lawyer, a divine, and so forth, conscientiously observed his own maxim, \"Jog on, jog on, the footpath way\"; though a full proof of this could only be given in an octavo volume.']\n",
      "[]\n",
      "[]\n",
      "['‘ Such things happen every day,’remarked the lawyer.', 'The tradesmen held that he was a sort of lawyer, and the other neighbours opined that he was a kind of general agent; both of which guesses were as correct and definite as guesses about other people’s affairs usually are, or need to be.']\n",
      "[]\n",
      "[]\n",
      "['He is a strange creature, but a shrewd one, and might prove of material assistance to us; I should say that he was bred a lawyer, and quitted the Bar in disgust because he had only one brief and a motion of course, in twenty years, though whether that is recommendation or not, you must determine for yourselves. ” “ I have no objection to your calling in your friend if I may call in mine, ” said the doctor.']\n",
      "[]\n",
      "['Then Mrs Boffin and me seal up his box, always standing on the table at the side of his bed, and having frequently heerd tell of the Temple as a spot where lawyer’s dust is contracted for, I come down here in search of a lawyer to advise, and I see your young man up at this present elevation, chopping at the flies on the window-sill with his penknife, and I give him a Hoy!', 'Then Mrs Boffin and me seal up his box, always standing on the table at the side of his bed, and having frequently heerd tell of the Temple as a spot where lawyer’s dust is contracted for, I come down here in search of a lawyer to advise, and I see your young man up at this present elevation, chopping at the flies on the window-sill with his penknife, and I give him a Hoy!', 'But this is the first instruction that I, as the owner of the property, give to my lawyer on coming into it.’‘ Your lawyer, Mr Boffin,’returned Lightwood, making a very short note of it with a very rusty pen, ‘ has the gratification of taking the instruction.', 'But this is the first instruction that I, as the owner of the property, give to my lawyer on coming into it.’‘ Your lawyer, Mr Boffin,’returned Lightwood, making a very short note of it with a very rusty pen, ‘ has the gratification of taking the instruction.', '‘ If I don’t mistake, you have followed me from my lawyer’s and tried to fix my attention.', 'I took the liberty of following you, trying to make up my mind to speak to you, till you went into your lawyer’s.', 'But while I am in your employment, sir, I would rather be excused from going between the lawyer and the client.', '‘ Now this affair is concluded, I may mention to you in a friendly way that I’ve my doubts whether, if I had consulted a lawyer, you could have kept this article back from me.', '‘ And when you went to that lawyer yonder in the Temple with that invented story,’said the stranger, in an exasperatingly comfortable sort of confidence, ‘ you might have had your strong suspicions of a friend of your own, you know.']\n",
      "[]\n",
      "[]\n",
      "[]\n",
      "[]\n",
      "[]\n",
      "[]\n",
      "[]\n",
      "[]\n",
      "['“ My name, ” he said, “ is Jaggers, and I am a lawyer in London.', '“ Now, Mr. Pip, ” pursued the lawyer, “ I address the rest of what I have to say, to you.', 'Some lawyer, maybe.', 'As to the first letter of that lawyer’s name now.', '“ Put it, ” he resumed, “ as the employer of that lawyer whose name begun with a J, and might be Jaggers, —put it as he had come over sea to Portsmouth, and had landed there, and had wanted to come on to you.', 'His being my lawyer, and his being the lawyer of your patron is a coincidence.', 'His being my lawyer, and his being the lawyer of your patron is a coincidence.']\n",
      "['Stimulated by Flammock, a lawyer, and Joseph, a blacksmith, and joined by Lord Audley and some other country gentlemen, they marched on all the way to Deptford Bridge, where they fought a battle with the King’s army.', 'They were defeated—though the Cornish men fought with great bravery—and the lord was beheaded, and the lawyer and the blacksmith were hanged, drawn, and quartered.', 'Lord Shaftesbury having been much the most violent of this party, brought two violent men into their secrets—Rumsey, who had been a soldier in the Republican army; and West, a lawyer.']\n",
      "[]\n",
      "[]\n",
      "[]\n",
      "[]\n",
      "['Vun day the lawyer come to make his vill; all the time he wos a takin’it down, Jinkinson was secretly a clippin’avay at his hair vith a large pair of scissors.', '” says the lawyer every now and then; “ it’s like a man havin’his hair cut. ” “ It _is_ wery like a man havin’his hair cut, ” says poor Jinkinson, hidin’the scissors, and lookin’quite innocent.', 'By the time the lawyer found it out, he was wery nearly bald.']\n",
      "[]\n",
      "[]\n",
      "['My lawyer, Mr.', 'I played truant, ma’am, on that occasion, in company with a friend of mine, who is managing clerk in a lawyer’s office; and we both spent the morning at Doctors’Commons, over the last will and testament of Mr. Forley’s father.']\n",
      "[]\n",
      "[]\n",
      "[]\n",
      "['Sir Roger was still oracular on the bench, after consulting his clerk, a good lawyer,--and looked up to by the neighboring squires in election matters, for he was an unswerving tory.', 'The Stockingtonians protested by their able lawyer Daredeville, against any order for the closing of these ancient woods--the inestimable property of the public.', 'The able lawyer Daredeville retired with a pleasant smile.', 'That was grist at once to the mill of the able lawyer Daredeville.', 'The following summer, when the hay was lying in fragrant cocks in the great meadows of Rockville, and on the little islands in the river, Sir Simon Degge, Baronet of Rockville,--for such was now his title--through the suggestion of a great lawyer, formerly recorder of the borough of Stockington to the crown--held a grand fête on the occasion of his coming to reside at Rockville Hall, henceforth the family seat of the Degges.']\n",
      "[]\n",
      "['Thus it is described of the lawyer in the Introductory Discourse to the Description of Utopia, that he said of a proposal against Capital Punishment, “ ‘ this could never be so established in England but that it must needs bring the weal-public into great jeopardy and hazard ’, and as he was thus saying, he shaked his head, and made a wry mouth, and so he held his peace ”.', 'Thus the lawyer has said, again and again, in his generation, that any change in such a state of things “ must needs bring the weal-public into jeopardy and hazard ”.']\n",
      "[]\n",
      "['He is a strange creature, but a shrewd one, and might prove of material assistance to us; I should say that he was bred a lawyer, and quitted the bar in disgust because he had only one brief and a motion of course in ten years, though whether that is a recommendation or not, you must determine for yourselves. ” “ I have no objection to your calling in your friend if I may call in mine, ” said the doctor.']\n",
      "[]\n",
      "['‘ Certainly,’returned the lawyer.', '’ observed the lawyer, jocosely.', '’ said the lawyer.', 'Thank you, sir.’As the imperturbable lawyer applied it to his nose with great apparent relish and a perfect absorption of his attention in the proceeding, the client gradually broke into a smile, and, looking up, said: ‘ You talk of nursing.', 'The lawyer very likely knew _his_ man; at any rate his dry, shrewd, whimsical manner, had a favourable influence on the client’s moody state, and disposed him to be more free and unreserved.', '‘ A dangerous sort of libertine,’thought the shrewd lawyer, ‘ to seem to catch the spark he wants, from a young lady’s eyes.’‘ Now, observe, Snitchey,’he continued, rising and taking him by the button, ‘ and Craggs,’taking him by the button also, and placing one partner on either side of him, so that neither might evade him.', '’ said the lawyer, taking him aside, ‘ what wind has blown—’He was so blown himself, that he couldn’t get on any further until after a pause, when he added, feebly, ‘ you here?', '’ returned the lawyer, ‘ speaking for Self and Craggs—deceased,’here Mr. Snitchey, glancing at his hat-band, shook his head, ‘ how can you reasonably blame us, Mr.', 'Wait till to-morrow,’said the lawyer, kindly.', 'It can’t do that, or it would bring back Mr. Craggs, deceased,’returned the lawyer.', '‘ Now, Mistress,’said the lawyer, checking Marion as she ran towards her, and interposing himself between them, ‘ what’s the matter with _you_?', 'Britain,’said the lawyer, putting his hand in his pocket, and bringing out a legal-looking document, while this was going on, ‘ I congratulate you.', '‘ Not in the least,’replied the lawyer.']\n",
      "[]\n",
      "[]\n",
      "['And the upshot of the matter was, that a lawyer’s letter came next day, and an action was commenced next week; and that Mr. Augustus Cooper, after walking twice to the Serpentine for the purpose of drowning himself, and coming twice back without doing it, made a confidante of his mother, who compromised the matter with twenty pounds from the till: which made twenty pounds four shillings and sixpence paid to Signor Billsmethi, exclusive of treats and pumps.', 'A hackney-coach now and then rumbled slowly by; and occasionally some stray lawyer’s clerk, on his way home to Somers-town, struck his iron heel on the top of the coal-cellar with a noise resembling the click of a smoke-Jack.', '‘ I say, he’s a lawyer, our mayor, and insured in the County.', '‘ Perhaps the _box_ would suit the gentleman better,’suggested a very damp lawyer’s clerk, in a pink shirt, and a smirking countenance.']\n",
      "[]\n",
      "[]\n",
      "['The secretary of ‘ the gentlemen’was once pointed out to me, evidently engaged in championing the obnoxious pump against the attacks of the discontented Mr. Battens; but I am not in a condition to report further of him than that he had the sprightly bearing of a lawyer’s clerk.']\n",
      "[]\n",
      "['You know how I loved her; you (her lawyer) know how she loved me.', '\" \"At roast, and boiled, and beer,\" answered the lawyer, --\" prompting lodging under the same roof--and one and all --\" \" Ah!', 'And one and all singing in the head together --\" \" Do you know, I really _would not_ let my good feelings excite me, if I was you,\" hinted the lawyer again, anxiously.', '\" \"Do you know,\" hinted the lawyer again, \"I really would not ex --\" \" I am not going to.', '\" asked the lawyer, rather shortly.', 'I must speak to my lawyer; I must set my lawyer at work before I sleep to-night.', 'I must speak to my lawyer; I must set my lawyer at work before I sleep to-night.', '\" All that his partner had said to him, all that his lawyer, following on the same side, could urge, had left him persisting unshaken in his own point of view.', '\" \"If you feel that singing in it coming on,\" hinted the lawyer, with an alarmed glance, \"put it off.--I mean the interview.', '\"What was I going to --\" \" Don\\'t excite yourself, Mr. Wilding,\" urged the lawyer.', '\" \"It only remains,\" said the lawyer, with one shrug of his shoulders, \"to get them into technical and binding form, and to execute and attest.', '\" \"We are lawyer and client again,\" rejoined Bintrey, who, for the nonce, had become almost sympathetic.', 'The lawyer had declared, from the first, that it was simply impossible to take any useful action in the matter at all.', 'You will be a fine lawyer one of these days.', 'My ward withdraws herself from my authority, and takes shelter (Madame Dor with her) in the house of that English lawyer, Mr. Bintrey, who replies to your summons to her to submit herself to my authority, that she will not do so.', '\"In saying,\" observed Obenreizer, with recovered composure, \"that he is coming to confer with you, this English lawyer means that he is coming to deny my authority over my ward.', \"Some shadow thrown by my taper; or some poor little beetle, who lives among the old lawyer's secrets, running away from the light.\", '\" he inquired, taking the seat which the English lawyer had indicated to him.', '\" \"In other words, you, a lawyer, are here to represent an infraction of the law.', '\"No,\" said the pertinacious lawyer.', \"Memorandum given to the Swiss lawyer, who drew the documents referred to in the letter I have just read, expressed as follows:--'Adopted from the Foundling Hospital of England, 3d March, 1836, a male infant, called, in the Institution, Walter Wilding.\", \"Assembled in the Inn's best chamber, festively adorned, are the bride and bridegroom, the Neuchatel notary, the London lawyer, Madame Dor, and a certain large mysterious Englishman, popularly known as Monsieur Zhoe- Ladelle.\"]\n",
      "[]\n",
      "[]\n",
      "[]\n",
      "[]\n",
      "['But, trivial things, invented and pursued for bread, become very serious matters of fact; and, apart from this consideration, I am not at all prepared to say, myself, that if Caleb had been a Lord Chamberlain, or a Member of Parliament, or a lawyer, or even a great speculator, he would have dealt in toys one whit less whimsical, while I have a very great doubt whether they would have been as harmless.']\n",
      "[]\n",
      "['He is a strange creature, but a shrewd one, and might prove of material assistance to us; I should say that he was bred a lawyer, and quitted the Bar in disgust because he had only one brief and a motion of course, in twenty years, though whether that is recommendation or not, you must determine for yourselves.’‘ I have no objection to your calling in your friend if I may call in mine,’said the doctor.']\n",
      "['Vun day the lawyer come to make his vill; all the time he wos a takin’it down, Jinkinson was secretly a clippin’avay at his hair vith a large pair of scissors.', '’ says the lawyer every now and then, ‘ it’s like a man havin’his hair cut.’‘ It _is_ wery like a man havin’his hair cut,’says poor Jinkinson, hidin’the scissors and lookin’quite innocent.', 'By the time the lawyer found it out, he was wery nearly bald.']\n",
      "['nice', 'unfortunate', 'short', 'rusty', 'short', 'rusty', 'able', 'able', 'pleasant', 'able', 'great', 'imperturbable', 'shrewd', 'damp', 'fine', 'English', 'English', 'old', 'English', 'pertinacious', 'Swiss', 'certain', 'large', 'mysterious', 'great']\n"
     ]
    }
   ],
   "source": [
    "def find_adj_in_all_books(keywords):\n",
    "    keywords=expand_keywords(keywords)\n",
    "    adj=[]\n",
    "    for word in keywords:\n",
    "        for book in os.listdir(\"BooksCleaned\"):\n",
    "            adj+=(find_adj_in_all_sentences(word,f'BooksCleaned/{book}')) \n",
    "        return(adj)\n",
    "adj_lawyer=find_adj_in_all_books([\"lawyer\"])\n",
    "print(adj_lawyer)\n"
   ]
  },
  {
   "cell_type": "code",
   "execution_count": 53,
   "metadata": {},
   "outputs": [
    {
     "name": "stdout",
     "output_type": "stream",
     "text": [
      "['nice', 'good', 'sinister', 'unfortunate', 's', 'able', 'able', 'pleasant', 'able', 'great', 'imperturbable', 'shrewd', 'stray', 'damp', 'fine', 'English', 'English', 'old', 'English', 'pertinacious', 'Swiss', 'certain', 'large', 'mysterious', 'great']\n"
     ]
    }
   ],
   "source": [
    "print(adj_lawyer)"
   ]
  },
  {
   "cell_type": "code",
   "execution_count": 18,
   "metadata": {},
   "outputs": [
    {
     "name": "stdout",
     "output_type": "stream",
     "text": [
      "['similar', 'ferocious', 'ferocious', 'ferocious', 'ferocious', 'ambitious', 'sick', 'young']\n"
     ]
    }
   ],
   "source": [
    "print(adj_lawyer)"
   ]
  },
  {
   "cell_type": "code",
   "execution_count": null,
   "metadata": {},
   "outputs": [
    {
     "name": "stdout",
     "output_type": "stream",
     "text": [
      "['nice', 'good', 'sinister', 'unfortunate', 's', 'able', 'able', 'pleasant', 'able', 'great', 'imperturbable', 'shrewd', 'stray', 'damp', 'fine', 'English', 'English', 'old', 'English', 'pertinacious', 'Swiss', 'certain', 'large', 'mysterious', 'great']\n"
     ]
    }
   ],
   "source": [
    "print(adj_lawyer)\n"
   ]
  },
  {
   "cell_type": "code",
   "execution_count": 20,
   "metadata": {},
   "outputs": [
    {
     "name": "stdout",
     "output_type": "stream",
     "text": [
      "['eminent', 'deceased', 'eminent', 'suicidal']\n"
     ]
    }
   ],
   "source": [
    "print(adj_lawyer)\n"
   ]
  },
  {
   "cell_type": "code",
   "execution_count": 22,
   "metadata": {},
   "outputs": [
    {
     "name": "stdout",
     "output_type": "stream",
     "text": [
      "['aged', 'worked', 'only', 'unconscious', 'dusty', 'old', 'evaporated', 'opposite', 'perfect', 'dusty', 'old', 'confidential', 'common', 'desirable', 'brief', 'humble', 'female', 'female', 'irresponsible', 'new', 'other', 'fellow', 'new', 'more', 'junior', 'evident', 'whole', 'whole', 'poor', 'poor', 'grand', 'comprehensive', 'junior', 'common', 'grand', 'comprehensive', 'junior', 'common', 'grand', 'comprehensive', 'junior', 'common', 'grand', 'comprehensive', 'junior', 'common', 'grand', 'comprehensive', 'junior', 'common', 'grand', 'comprehensive', 'junior', 'common', 'notary', 'ancient', 'ancient', 'ancient', 'old', 'low', 'large', 'swollen', 'such', 'chief', 'dismal', 'little', 'cold', 'warmer', 'expectant', 'long', 'white', 'poor', 'little', 'private', 'chief', 'small', 'national', 'early', 'junior', 'same', 'particular', 'highest', 'possible', 'other', 'young', 'lowest', 'same', 'aristocratic', 'stray', 'damp', 'public', 'Angular', 'good', 'brisk', 'young', 'brisk', 'exhausted', 'brown', 'exhausted', 'red', 'last', 'deft', 'locomotive', 'black', 'other', 'public', 'chief']\n"
     ]
    }
   ],
   "source": [
    "print(adj_lawyer)\n"
   ]
  }
 ],
 "metadata": {
  "interpreter": {
   "hash": "f45d27ef87abeaa05ab51a1f930e19baf32562d96191c86f18389cce06bff4cf"
  },
  "kernelspec": {
   "display_name": "Python 3.9.7 ('base')",
   "language": "python",
   "name": "python3"
  },
  "language_info": {
   "codemirror_mode": {
    "name": "ipython",
    "version": 3
   },
   "file_extension": ".py",
   "mimetype": "text/x-python",
   "name": "python",
   "nbconvert_exporter": "python",
   "pygments_lexer": "ipython3",
   "version": "3.9.7"
  },
  "orig_nbformat": 4
 },
 "nbformat": 4,
 "nbformat_minor": 2
}
